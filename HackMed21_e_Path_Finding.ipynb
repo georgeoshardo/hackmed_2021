{
 "cells": [
  {
   "cell_type": "code",
   "execution_count": 1,
   "id": "6f7d301f-7b7c-4148-a6f3-c42e5c4ba837",
   "metadata": {},
   "outputs": [],
   "source": [
    "import pandas as pd\n",
    "import numpy as np\n",
    "import networkx as nx\n",
    "from pyvis.network import Network\n",
    "from rdkit import Chem"
   ]
  },
  {
   "cell_type": "code",
   "execution_count": 2,
   "id": "5fca2bf9-b7b3-450b-ab83-792953dbff03",
   "metadata": {},
   "outputs": [],
   "source": [
    "drug_hits = pd.read_pickle(\"drug_hit_ChEBIs.p\")"
   ]
  },
  {
   "cell_type": "code",
   "execution_count": 3,
   "id": "1421d456-36ce-4505-b163-5dd0fea9333a",
   "metadata": {},
   "outputs": [],
   "source": [
    "unique_drugs = drug_hits[\"drug_ChEBI\"].unique()"
   ]
  },
  {
   "cell_type": "code",
   "execution_count": 14,
   "id": "17b849c3-997f-4d74-8ca3-631759a98b05",
   "metadata": {},
   "outputs": [],
   "source": []
  },
  {
   "cell_type": "code",
   "execution_count": 21,
   "id": "96201f86-d44b-41d5-859f-a849cf27d4e9",
   "metadata": {},
   "outputs": [],
   "source": [
    "ChEBI_mol_info[['ChEBI ID', 'ChEBI Name',\"Formulae\"]].to_csv(\"ChEBI_mol_info_small.csv\")"
   ]
  },
  {
   "cell_type": "code",
   "execution_count": 15,
   "id": "a5b68a8e-78df-4044-821d-0b3724135c3a",
   "metadata": {},
   "outputs": [],
   "source": [
    "ChEBI_mol_info.reset_index(inplace=True,drop=True)\n",
    "ChEBI_mol_info.to_csv(\"ChEBI_mol_info.csv\")"
   ]
  },
  {
   "cell_type": "code",
   "execution_count": 7,
   "id": "414ee0bb-ec58-4dff-a275-ab7b4f94425a",
   "metadata": {},
   "outputs": [],
   "source": [
    "G = nx.readwrite.graphml.read_graphml(\"g.graphml\")"
   ]
  },
  {
   "cell_type": "code",
   "execution_count": 29,
   "id": "59bc1fee-a1d0-4706-9a8c-ae6f07c8cef9",
   "metadata": {},
   "outputs": [],
   "source": [
    "glucose = \"58885\""
   ]
  },
  {
   "cell_type": "code",
   "execution_count": 33,
   "id": "22613e02-0984-4f4a-ad54-04750d9ec8d1",
   "metadata": {},
   "outputs": [
    {
     "data": {
      "text/plain": [
       "[['58885', '68654', '138140', '33722', '17026'],\n",
       " ['58885', '161167', '138140', '33722', '17026'],\n",
       " ['58885', '101100', '138140', '33722', '17026'],\n",
       " ['58885', '102103', '138140', '33722', '17026'],\n",
       " ['58885', '103104', '138140', '33722', '17026'],\n",
       " ['58885', '102105', '138140', '33722', '17026'],\n",
       " ['58885', '103106', '138140', '33722', '17026'],\n",
       " ['58885', '12833', '138140', '33722', '17026'],\n",
       " ['58885', '127128', '138140', '33722', '17026'],\n",
       " ['58885', '145044', '16581', '63837', '17026']]"
      ]
     },
     "execution_count": 33,
     "metadata": {},
     "output_type": "execute_result"
    }
   ],
   "source": [
    "list(nx.algorithms.shortest_paths.generic.all_shortest_paths(G,source=glucose,target=\"17026\"))"
   ]
  },
  {
   "cell_type": "code",
   "execution_count": null,
   "id": "770a849b-2644-4633-bdb5-967afdbefb12",
   "metadata": {},
   "outputs": [],
   "source": []
  }
 ],
 "metadata": {
  "kernelspec": {
   "display_name": "Python 3",
   "language": "python",
   "name": "python3"
  },
  "language_info": {
   "codemirror_mode": {
    "name": "ipython",
    "version": 3
   },
   "file_extension": ".py",
   "mimetype": "text/x-python",
   "name": "python",
   "nbconvert_exporter": "python",
   "pygments_lexer": "ipython3",
   "version": "3.9.2"
  }
 },
 "nbformat": 4,
 "nbformat_minor": 5
}
